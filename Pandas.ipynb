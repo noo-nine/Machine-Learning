{
  "cells": [
    {
      "cell_type": "markdown",
      "metadata": {
        "id": "view-in-github",
        "colab_type": "text"
      },
      "source": [
        "<a href=\"https://colab.research.google.com/github/noo-nine/Machine-Learning/blob/main/Pandas.ipynb\" target=\"_parent\"><img src=\"https://colab.research.google.com/assets/colab-badge.svg\" alt=\"Open In Colab\"/></a>"
      ]
    },
    {
      "cell_type": "markdown",
      "metadata": {
        "id": "WvGojXSUr1Sw"
      },
      "source": [
        "## Installation\n",
        "\n",
        "conda install pandas"
      ]
    },
    {
      "cell_type": "markdown",
      "metadata": {
        "collapsed": true,
        "id": "ZMwTIteEr1Sz"
      },
      "source": [
        "# DataFrames"
      ]
    },
    {
      "cell_type": "code",
      "execution_count": null,
      "metadata": {
        "id": "GHGqy2Gvr1S0"
      },
      "outputs": [],
      "source": [
        "import pandas as pd\n",
        "import numpy as np"
      ]
    },
    {
      "cell_type": "code",
      "execution_count": null,
      "metadata": {
        "id": "nEU_9KJ6r1S1"
      },
      "outputs": [],
      "source": [
        "df = pd.DataFrame(np.random.randn(5,4),index='A B C D E'.split(),columns='W X Y Z'.split())"
      ]
    },
    {
      "cell_type": "code",
      "execution_count": null,
      "metadata": {
        "id": "k0AkY-wpr1S2",
        "outputId": "4daf6f99-15a0-4fd8-bd60-185a8651ab59"
      },
      "outputs": [
        {
          "data": {
            "text/html": [
              "<div>\n",
              "<style scoped>\n",
              "    .dataframe tbody tr th:only-of-type {\n",
              "        vertical-align: middle;\n",
              "    }\n",
              "\n",
              "    .dataframe tbody tr th {\n",
              "        vertical-align: top;\n",
              "    }\n",
              "\n",
              "    .dataframe thead th {\n",
              "        text-align: right;\n",
              "    }\n",
              "</style>\n",
              "<table border=\"1\" class=\"dataframe\">\n",
              "  <thead>\n",
              "    <tr style=\"text-align: right;\">\n",
              "      <th></th>\n",
              "      <th>W</th>\n",
              "      <th>X</th>\n",
              "      <th>Y</th>\n",
              "      <th>Z</th>\n",
              "    </tr>\n",
              "  </thead>\n",
              "  <tbody>\n",
              "    <tr>\n",
              "      <th>A</th>\n",
              "      <td>-1.714969</td>\n",
              "      <td>-0.200637</td>\n",
              "      <td>-0.446755</td>\n",
              "      <td>-1.380459</td>\n",
              "    </tr>\n",
              "    <tr>\n",
              "      <th>B</th>\n",
              "      <td>-2.533718</td>\n",
              "      <td>0.945276</td>\n",
              "      <td>-0.147050</td>\n",
              "      <td>-1.393195</td>\n",
              "    </tr>\n",
              "    <tr>\n",
              "      <th>C</th>\n",
              "      <td>1.413018</td>\n",
              "      <td>0.031659</td>\n",
              "      <td>1.029154</td>\n",
              "      <td>-0.793943</td>\n",
              "    </tr>\n",
              "    <tr>\n",
              "      <th>D</th>\n",
              "      <td>-0.662689</td>\n",
              "      <td>0.177411</td>\n",
              "      <td>2.338913</td>\n",
              "      <td>1.300502</td>\n",
              "    </tr>\n",
              "    <tr>\n",
              "      <th>E</th>\n",
              "      <td>1.400226</td>\n",
              "      <td>1.009983</td>\n",
              "      <td>0.626337</td>\n",
              "      <td>0.752276</td>\n",
              "    </tr>\n",
              "  </tbody>\n",
              "</table>\n",
              "</div>"
            ],
            "text/plain": [
              "          W         X         Y         Z\n",
              "A -1.714969 -0.200637 -0.446755 -1.380459\n",
              "B -2.533718  0.945276 -0.147050 -1.393195\n",
              "C  1.413018  0.031659  1.029154 -0.793943\n",
              "D -0.662689  0.177411  2.338913  1.300502\n",
              "E  1.400226  1.009983  0.626337  0.752276"
            ]
          },
          "execution_count": 3,
          "metadata": {},
          "output_type": "execute_result"
        }
      ],
      "source": [
        "df"
      ]
    },
    {
      "cell_type": "markdown",
      "metadata": {
        "id": "X2qD3ifLr1S3"
      },
      "source": [
        "## Selection and Indexing\n",
        "\n",
        "Let's learn the various methods to grab data from a DataFrame"
      ]
    },
    {
      "cell_type": "code",
      "execution_count": null,
      "metadata": {
        "id": "ae_2bcxdr1S4",
        "outputId": "cb6ee2ee-4eed-4b56-a865-af0ef68d6826"
      },
      "outputs": [
        {
          "data": {
            "text/html": [
              "<div>\n",
              "<style scoped>\n",
              "    .dataframe tbody tr th:only-of-type {\n",
              "        vertical-align: middle;\n",
              "    }\n",
              "\n",
              "    .dataframe tbody tr th {\n",
              "        vertical-align: top;\n",
              "    }\n",
              "\n",
              "    .dataframe thead th {\n",
              "        text-align: right;\n",
              "    }\n",
              "</style>\n",
              "<table border=\"1\" class=\"dataframe\">\n",
              "  <thead>\n",
              "    <tr style=\"text-align: right;\">\n",
              "      <th></th>\n",
              "      <th>Y</th>\n",
              "    </tr>\n",
              "  </thead>\n",
              "  <tbody>\n",
              "    <tr>\n",
              "      <th>A</th>\n",
              "      <td>-0.446755</td>\n",
              "    </tr>\n",
              "    <tr>\n",
              "      <th>B</th>\n",
              "      <td>-0.147050</td>\n",
              "    </tr>\n",
              "    <tr>\n",
              "      <th>C</th>\n",
              "      <td>1.029154</td>\n",
              "    </tr>\n",
              "    <tr>\n",
              "      <th>D</th>\n",
              "      <td>2.338913</td>\n",
              "    </tr>\n",
              "    <tr>\n",
              "      <th>E</th>\n",
              "      <td>0.626337</td>\n",
              "    </tr>\n",
              "  </tbody>\n",
              "</table>\n",
              "</div>"
            ],
            "text/plain": [
              "          Y\n",
              "A -0.446755\n",
              "B -0.147050\n",
              "C  1.029154\n",
              "D  2.338913\n",
              "E  0.626337"
            ]
          },
          "execution_count": 7,
          "metadata": {},
          "output_type": "execute_result"
        }
      ],
      "source": [
        "df.iloc[:,2:3]"
      ]
    },
    {
      "cell_type": "code",
      "execution_count": null,
      "metadata": {
        "id": "SbwSFAdUr1S5",
        "outputId": "9e3ef96e-ab34-46b5-e998-68ca2bc08e2e"
      },
      "outputs": [
        {
          "data": {
            "text/html": [
              "<div>\n",
              "<style scoped>\n",
              "    .dataframe tbody tr th:only-of-type {\n",
              "        vertical-align: middle;\n",
              "    }\n",
              "\n",
              "    .dataframe tbody tr th {\n",
              "        vertical-align: top;\n",
              "    }\n",
              "\n",
              "    .dataframe thead th {\n",
              "        text-align: right;\n",
              "    }\n",
              "</style>\n",
              "<table border=\"1\" class=\"dataframe\">\n",
              "  <thead>\n",
              "    <tr style=\"text-align: right;\">\n",
              "      <th></th>\n",
              "      <th>W</th>\n",
              "      <th>Z</th>\n",
              "    </tr>\n",
              "  </thead>\n",
              "  <tbody>\n",
              "    <tr>\n",
              "      <th>A</th>\n",
              "      <td>-1.714969</td>\n",
              "      <td>-1.380459</td>\n",
              "    </tr>\n",
              "    <tr>\n",
              "      <th>B</th>\n",
              "      <td>-2.533718</td>\n",
              "      <td>-1.393195</td>\n",
              "    </tr>\n",
              "    <tr>\n",
              "      <th>C</th>\n",
              "      <td>1.413018</td>\n",
              "      <td>-0.793943</td>\n",
              "    </tr>\n",
              "    <tr>\n",
              "      <th>D</th>\n",
              "      <td>-0.662689</td>\n",
              "      <td>1.300502</td>\n",
              "    </tr>\n",
              "    <tr>\n",
              "      <th>E</th>\n",
              "      <td>1.400226</td>\n",
              "      <td>0.752276</td>\n",
              "    </tr>\n",
              "  </tbody>\n",
              "</table>\n",
              "</div>"
            ],
            "text/plain": [
              "          W         Z\n",
              "A -1.714969 -1.380459\n",
              "B -2.533718 -1.393195\n",
              "C  1.413018 -0.793943\n",
              "D -0.662689  1.300502\n",
              "E  1.400226  0.752276"
            ]
          },
          "execution_count": 8,
          "metadata": {},
          "output_type": "execute_result"
        }
      ],
      "source": [
        "# Pass a list of column names\n",
        "df[['W','Z']]"
      ]
    },
    {
      "cell_type": "code",
      "execution_count": null,
      "metadata": {
        "id": "b131JMO9r1S5",
        "outputId": "943b1432-898b-4378-d59c-8a4bc6960722"
      },
      "outputs": [
        {
          "data": {
            "text/plain": [
              "A   -1.714969\n",
              "B   -2.533718\n",
              "C    1.413018\n",
              "D   -0.662689\n",
              "E    1.400226\n",
              "Name: W, dtype: float64"
            ]
          },
          "execution_count": 9,
          "metadata": {},
          "output_type": "execute_result"
        }
      ],
      "source": [
        "# SQL Syntax (NOT RECOMMENDED!)\n",
        "df.W"
      ]
    },
    {
      "cell_type": "markdown",
      "metadata": {
        "id": "a22Eoyx3r1S6"
      },
      "source": [
        "DataFrame Columns are just Series"
      ]
    },
    {
      "cell_type": "code",
      "execution_count": null,
      "metadata": {
        "id": "qI7U3zDKr1S6",
        "outputId": "0cb6adaf-8c5b-4894-cf5e-72b725ad2ff2"
      },
      "outputs": [
        {
          "data": {
            "text/plain": [
              "pandas.core.series.Series"
            ]
          },
          "execution_count": 7,
          "metadata": {},
          "output_type": "execute_result"
        }
      ],
      "source": [
        "type(df['W'])"
      ]
    },
    {
      "cell_type": "markdown",
      "metadata": {
        "id": "p-1U1obgr1S7"
      },
      "source": [
        "**Creating a new column:**"
      ]
    },
    {
      "cell_type": "code",
      "execution_count": null,
      "metadata": {
        "id": "VT7Te3Kxr1S7"
      },
      "outputs": [],
      "source": [
        "df['new'] = df['W'] + df['Y']"
      ]
    },
    {
      "cell_type": "code",
      "execution_count": null,
      "metadata": {
        "id": "tBkgknOjr1S7",
        "outputId": "c3a01c25-ccbc-4ab2-9630-01e7418b4d1e"
      },
      "outputs": [
        {
          "data": {
            "text/html": [
              "<div>\n",
              "<style scoped>\n",
              "    .dataframe tbody tr th:only-of-type {\n",
              "        vertical-align: middle;\n",
              "    }\n",
              "\n",
              "    .dataframe tbody tr th {\n",
              "        vertical-align: top;\n",
              "    }\n",
              "\n",
              "    .dataframe thead th {\n",
              "        text-align: right;\n",
              "    }\n",
              "</style>\n",
              "<table border=\"1\" class=\"dataframe\">\n",
              "  <thead>\n",
              "    <tr style=\"text-align: right;\">\n",
              "      <th></th>\n",
              "      <th>W</th>\n",
              "      <th>X</th>\n",
              "      <th>Y</th>\n",
              "      <th>Z</th>\n",
              "      <th>new</th>\n",
              "    </tr>\n",
              "  </thead>\n",
              "  <tbody>\n",
              "    <tr>\n",
              "      <th>A</th>\n",
              "      <td>-1.714969</td>\n",
              "      <td>-0.200637</td>\n",
              "      <td>-0.446755</td>\n",
              "      <td>-1.380459</td>\n",
              "      <td>-2.161724</td>\n",
              "    </tr>\n",
              "    <tr>\n",
              "      <th>B</th>\n",
              "      <td>-2.533718</td>\n",
              "      <td>0.945276</td>\n",
              "      <td>-0.147050</td>\n",
              "      <td>-1.393195</td>\n",
              "      <td>-2.680768</td>\n",
              "    </tr>\n",
              "    <tr>\n",
              "      <th>C</th>\n",
              "      <td>1.413018</td>\n",
              "      <td>0.031659</td>\n",
              "      <td>1.029154</td>\n",
              "      <td>-0.793943</td>\n",
              "      <td>2.442172</td>\n",
              "    </tr>\n",
              "    <tr>\n",
              "      <th>D</th>\n",
              "      <td>-0.662689</td>\n",
              "      <td>0.177411</td>\n",
              "      <td>2.338913</td>\n",
              "      <td>1.300502</td>\n",
              "      <td>1.676223</td>\n",
              "    </tr>\n",
              "    <tr>\n",
              "      <th>E</th>\n",
              "      <td>1.400226</td>\n",
              "      <td>1.009983</td>\n",
              "      <td>0.626337</td>\n",
              "      <td>0.752276</td>\n",
              "      <td>2.026563</td>\n",
              "    </tr>\n",
              "  </tbody>\n",
              "</table>\n",
              "</div>"
            ],
            "text/plain": [
              "          W         X         Y         Z       new\n",
              "A -1.714969 -0.200637 -0.446755 -1.380459 -2.161724\n",
              "B -2.533718  0.945276 -0.147050 -1.393195 -2.680768\n",
              "C  1.413018  0.031659  1.029154 -0.793943  2.442172\n",
              "D -0.662689  0.177411  2.338913  1.300502  1.676223\n",
              "E  1.400226  1.009983  0.626337  0.752276  2.026563"
            ]
          },
          "execution_count": 12,
          "metadata": {},
          "output_type": "execute_result"
        }
      ],
      "source": [
        "df"
      ]
    },
    {
      "cell_type": "markdown",
      "metadata": {
        "id": "0Wf5lcOnr1S8"
      },
      "source": [
        "** Removing Columns**"
      ]
    },
    {
      "cell_type": "code",
      "execution_count": null,
      "metadata": {
        "id": "-b_8YGrPr1S8",
        "outputId": "ceb123d8-61d4-47e2-c6fa-96183a4be06e"
      },
      "outputs": [
        {
          "data": {
            "text/html": [
              "<div>\n",
              "<style scoped>\n",
              "    .dataframe tbody tr th:only-of-type {\n",
              "        vertical-align: middle;\n",
              "    }\n",
              "\n",
              "    .dataframe tbody tr th {\n",
              "        vertical-align: top;\n",
              "    }\n",
              "\n",
              "    .dataframe thead th {\n",
              "        text-align: right;\n",
              "    }\n",
              "</style>\n",
              "<table border=\"1\" class=\"dataframe\">\n",
              "  <thead>\n",
              "    <tr style=\"text-align: right;\">\n",
              "      <th></th>\n",
              "      <th>W</th>\n",
              "      <th>X</th>\n",
              "      <th>Y</th>\n",
              "      <th>Z</th>\n",
              "    </tr>\n",
              "  </thead>\n",
              "  <tbody>\n",
              "    <tr>\n",
              "      <th>A</th>\n",
              "      <td>-1.714969</td>\n",
              "      <td>-0.200637</td>\n",
              "      <td>-0.446755</td>\n",
              "      <td>-1.380459</td>\n",
              "    </tr>\n",
              "    <tr>\n",
              "      <th>B</th>\n",
              "      <td>-2.533718</td>\n",
              "      <td>0.945276</td>\n",
              "      <td>-0.147050</td>\n",
              "      <td>-1.393195</td>\n",
              "    </tr>\n",
              "    <tr>\n",
              "      <th>C</th>\n",
              "      <td>1.413018</td>\n",
              "      <td>0.031659</td>\n",
              "      <td>1.029154</td>\n",
              "      <td>-0.793943</td>\n",
              "    </tr>\n",
              "    <tr>\n",
              "      <th>D</th>\n",
              "      <td>-0.662689</td>\n",
              "      <td>0.177411</td>\n",
              "      <td>2.338913</td>\n",
              "      <td>1.300502</td>\n",
              "    </tr>\n",
              "    <tr>\n",
              "      <th>E</th>\n",
              "      <td>1.400226</td>\n",
              "      <td>1.009983</td>\n",
              "      <td>0.626337</td>\n",
              "      <td>0.752276</td>\n",
              "    </tr>\n",
              "  </tbody>\n",
              "</table>\n",
              "</div>"
            ],
            "text/plain": [
              "          W         X         Y         Z\n",
              "A -1.714969 -0.200637 -0.446755 -1.380459\n",
              "B -2.533718  0.945276 -0.147050 -1.393195\n",
              "C  1.413018  0.031659  1.029154 -0.793943\n",
              "D -0.662689  0.177411  2.338913  1.300502\n",
              "E  1.400226  1.009983  0.626337  0.752276"
            ]
          },
          "execution_count": 13,
          "metadata": {},
          "output_type": "execute_result"
        }
      ],
      "source": [
        "df.drop('new',axis=1)"
      ]
    },
    {
      "cell_type": "code",
      "execution_count": null,
      "metadata": {
        "id": "zHv2sFwFr1S8",
        "outputId": "f0e684ab-66de-4daf-f831-8f9fedaebb35"
      },
      "outputs": [
        {
          "data": {
            "text/html": [
              "<div>\n",
              "<style scoped>\n",
              "    .dataframe tbody tr th:only-of-type {\n",
              "        vertical-align: middle;\n",
              "    }\n",
              "\n",
              "    .dataframe tbody tr th {\n",
              "        vertical-align: top;\n",
              "    }\n",
              "\n",
              "    .dataframe thead th {\n",
              "        text-align: right;\n",
              "    }\n",
              "</style>\n",
              "<table border=\"1\" class=\"dataframe\">\n",
              "  <thead>\n",
              "    <tr style=\"text-align: right;\">\n",
              "      <th></th>\n",
              "      <th>W</th>\n",
              "      <th>X</th>\n",
              "      <th>Y</th>\n",
              "      <th>Z</th>\n",
              "      <th>new</th>\n",
              "    </tr>\n",
              "  </thead>\n",
              "  <tbody>\n",
              "    <tr>\n",
              "      <th>B</th>\n",
              "      <td>-2.533718</td>\n",
              "      <td>0.945276</td>\n",
              "      <td>-0.147050</td>\n",
              "      <td>-1.393195</td>\n",
              "      <td>-2.680768</td>\n",
              "    </tr>\n",
              "    <tr>\n",
              "      <th>C</th>\n",
              "      <td>1.413018</td>\n",
              "      <td>0.031659</td>\n",
              "      <td>1.029154</td>\n",
              "      <td>-0.793943</td>\n",
              "      <td>2.442172</td>\n",
              "    </tr>\n",
              "    <tr>\n",
              "      <th>D</th>\n",
              "      <td>-0.662689</td>\n",
              "      <td>0.177411</td>\n",
              "      <td>2.338913</td>\n",
              "      <td>1.300502</td>\n",
              "      <td>1.676223</td>\n",
              "    </tr>\n",
              "    <tr>\n",
              "      <th>E</th>\n",
              "      <td>1.400226</td>\n",
              "      <td>1.009983</td>\n",
              "      <td>0.626337</td>\n",
              "      <td>0.752276</td>\n",
              "      <td>2.026563</td>\n",
              "    </tr>\n",
              "  </tbody>\n",
              "</table>\n",
              "</div>"
            ],
            "text/plain": [
              "          W         X         Y         Z       new\n",
              "B -2.533718  0.945276 -0.147050 -1.393195 -2.680768\n",
              "C  1.413018  0.031659  1.029154 -0.793943  2.442172\n",
              "D -0.662689  0.177411  2.338913  1.300502  1.676223\n",
              "E  1.400226  1.009983  0.626337  0.752276  2.026563"
            ]
          },
          "execution_count": 16,
          "metadata": {},
          "output_type": "execute_result"
        }
      ],
      "source": [
        "df1 = df.drop('A',axis=0)\n",
        "df1"
      ]
    },
    {
      "cell_type": "code",
      "execution_count": null,
      "metadata": {
        "id": "pIPVsDn1r1S9",
        "outputId": "968a06dc-02c0-4362-beb3-c66f1eef1580"
      },
      "outputs": [
        {
          "data": {
            "text/html": [
              "<div>\n",
              "<style scoped>\n",
              "    .dataframe tbody tr th:only-of-type {\n",
              "        vertical-align: middle;\n",
              "    }\n",
              "\n",
              "    .dataframe tbody tr th {\n",
              "        vertical-align: top;\n",
              "    }\n",
              "\n",
              "    .dataframe thead th {\n",
              "        text-align: right;\n",
              "    }\n",
              "</style>\n",
              "<table border=\"1\" class=\"dataframe\">\n",
              "  <thead>\n",
              "    <tr style=\"text-align: right;\">\n",
              "      <th></th>\n",
              "      <th>W</th>\n",
              "      <th>X</th>\n",
              "      <th>Y</th>\n",
              "      <th>Z</th>\n",
              "      <th>new</th>\n",
              "    </tr>\n",
              "  </thead>\n",
              "  <tbody>\n",
              "    <tr>\n",
              "      <th>A</th>\n",
              "      <td>-1.714969</td>\n",
              "      <td>-0.200637</td>\n",
              "      <td>-0.446755</td>\n",
              "      <td>-1.380459</td>\n",
              "      <td>-2.161724</td>\n",
              "    </tr>\n",
              "    <tr>\n",
              "      <th>B</th>\n",
              "      <td>-2.533718</td>\n",
              "      <td>0.945276</td>\n",
              "      <td>-0.147050</td>\n",
              "      <td>-1.393195</td>\n",
              "      <td>-2.680768</td>\n",
              "    </tr>\n",
              "    <tr>\n",
              "      <th>C</th>\n",
              "      <td>1.413018</td>\n",
              "      <td>0.031659</td>\n",
              "      <td>1.029154</td>\n",
              "      <td>-0.793943</td>\n",
              "      <td>2.442172</td>\n",
              "    </tr>\n",
              "    <tr>\n",
              "      <th>D</th>\n",
              "      <td>-0.662689</td>\n",
              "      <td>0.177411</td>\n",
              "      <td>2.338913</td>\n",
              "      <td>1.300502</td>\n",
              "      <td>1.676223</td>\n",
              "    </tr>\n",
              "    <tr>\n",
              "      <th>E</th>\n",
              "      <td>1.400226</td>\n",
              "      <td>1.009983</td>\n",
              "      <td>0.626337</td>\n",
              "      <td>0.752276</td>\n",
              "      <td>2.026563</td>\n",
              "    </tr>\n",
              "  </tbody>\n",
              "</table>\n",
              "</div>"
            ],
            "text/plain": [
              "          W         X         Y         Z       new\n",
              "A -1.714969 -0.200637 -0.446755 -1.380459 -2.161724\n",
              "B -2.533718  0.945276 -0.147050 -1.393195 -2.680768\n",
              "C  1.413018  0.031659  1.029154 -0.793943  2.442172\n",
              "D -0.662689  0.177411  2.338913  1.300502  1.676223\n",
              "E  1.400226  1.009983  0.626337  0.752276  2.026563"
            ]
          },
          "execution_count": 14,
          "metadata": {},
          "output_type": "execute_result"
        }
      ],
      "source": [
        "# Not inplace unless specified!\n",
        "df"
      ]
    },
    {
      "cell_type": "code",
      "execution_count": null,
      "metadata": {
        "id": "dsiNVL3vr1S9",
        "outputId": "bfdc3177-c725-435d-e472-f2ae5d25c934"
      },
      "outputs": [
        {
          "data": {
            "text/html": [
              "<div>\n",
              "<style scoped>\n",
              "    .dataframe tbody tr th:only-of-type {\n",
              "        vertical-align: middle;\n",
              "    }\n",
              "\n",
              "    .dataframe tbody tr th {\n",
              "        vertical-align: top;\n",
              "    }\n",
              "\n",
              "    .dataframe thead th {\n",
              "        text-align: right;\n",
              "    }\n",
              "</style>\n",
              "<table border=\"1\" class=\"dataframe\">\n",
              "  <thead>\n",
              "    <tr style=\"text-align: right;\">\n",
              "      <th></th>\n",
              "      <th>W</th>\n",
              "      <th>X</th>\n",
              "      <th>Y</th>\n",
              "      <th>Z</th>\n",
              "      <th>new</th>\n",
              "    </tr>\n",
              "  </thead>\n",
              "  <tbody>\n",
              "    <tr>\n",
              "      <th>B</th>\n",
              "      <td>-2.533718</td>\n",
              "      <td>0.945276</td>\n",
              "      <td>-0.147050</td>\n",
              "      <td>-1.393195</td>\n",
              "      <td>-2.680768</td>\n",
              "    </tr>\n",
              "    <tr>\n",
              "      <th>C</th>\n",
              "      <td>1.413018</td>\n",
              "      <td>0.031659</td>\n",
              "      <td>1.029154</td>\n",
              "      <td>-0.793943</td>\n",
              "      <td>2.442172</td>\n",
              "    </tr>\n",
              "    <tr>\n",
              "      <th>D</th>\n",
              "      <td>-0.662689</td>\n",
              "      <td>0.177411</td>\n",
              "      <td>2.338913</td>\n",
              "      <td>1.300502</td>\n",
              "      <td>1.676223</td>\n",
              "    </tr>\n",
              "    <tr>\n",
              "      <th>E</th>\n",
              "      <td>1.400226</td>\n",
              "      <td>1.009983</td>\n",
              "      <td>0.626337</td>\n",
              "      <td>0.752276</td>\n",
              "      <td>2.026563</td>\n",
              "    </tr>\n",
              "  </tbody>\n",
              "</table>\n",
              "</div>"
            ],
            "text/plain": [
              "          W         X         Y         Z       new\n",
              "B -2.533718  0.945276 -0.147050 -1.393195 -2.680768\n",
              "C  1.413018  0.031659  1.029154 -0.793943  2.442172\n",
              "D -0.662689  0.177411  2.338913  1.300502  1.676223\n",
              "E  1.400226  1.009983  0.626337  0.752276  2.026563"
            ]
          },
          "execution_count": 17,
          "metadata": {},
          "output_type": "execute_result"
        }
      ],
      "source": [
        "df1"
      ]
    },
    {
      "cell_type": "code",
      "execution_count": null,
      "metadata": {
        "id": "kWE6ct4Lr1S9",
        "outputId": "3f8a74a5-0e40-454e-bd03-811445c5bf0e"
      },
      "outputs": [
        {
          "name": "stderr",
          "output_type": "stream",
          "text": [
            "C:\\Users\\DELL\\AppData\\Local\\Temp\\ipykernel_12660\\965711835.py:1: FutureWarning: In a future version of pandas all arguments of DataFrame.drop except for the argument 'labels' will be keyword-only.\n",
            "  df.drop('W',1,inplace=True)\n"
          ]
        }
      ],
      "source": [
        "df.drop('W',1,inplace=True)"
      ]
    },
    {
      "cell_type": "code",
      "execution_count": null,
      "metadata": {
        "id": "GY5oU_rer1S-"
      },
      "outputs": [],
      "source": [
        "df.drop?"
      ]
    },
    {
      "cell_type": "markdown",
      "metadata": {
        "id": "bb1VLthkr1S-"
      },
      "source": [
        "Can also drop rows this way:"
      ]
    },
    {
      "cell_type": "code",
      "execution_count": null,
      "metadata": {
        "id": "prTn1se9r1S-",
        "outputId": "83e5c29c-cc85-4cb6-f444-0d76c2d1b6df"
      },
      "outputs": [
        {
          "data": {
            "text/html": [
              "<div>\n",
              "<style scoped>\n",
              "    .dataframe tbody tr th:only-of-type {\n",
              "        vertical-align: middle;\n",
              "    }\n",
              "\n",
              "    .dataframe tbody tr th {\n",
              "        vertical-align: top;\n",
              "    }\n",
              "\n",
              "    .dataframe thead th {\n",
              "        text-align: right;\n",
              "    }\n",
              "</style>\n",
              "<table border=\"1\" class=\"dataframe\">\n",
              "  <thead>\n",
              "    <tr style=\"text-align: right;\">\n",
              "      <th></th>\n",
              "      <th>X</th>\n",
              "      <th>Y</th>\n",
              "      <th>Z</th>\n",
              "      <th>new</th>\n",
              "    </tr>\n",
              "  </thead>\n",
              "  <tbody>\n",
              "    <tr>\n",
              "      <th>A</th>\n",
              "      <td>-0.529688</td>\n",
              "      <td>0.146518</td>\n",
              "      <td>-0.425011</td>\n",
              "      <td>1.320873</td>\n",
              "    </tr>\n",
              "    <tr>\n",
              "      <th>B</th>\n",
              "      <td>-0.468972</td>\n",
              "      <td>0.323547</td>\n",
              "      <td>0.650965</td>\n",
              "      <td>-1.096610</td>\n",
              "    </tr>\n",
              "    <tr>\n",
              "      <th>C</th>\n",
              "      <td>-0.289836</td>\n",
              "      <td>-0.763281</td>\n",
              "      <td>0.964985</td>\n",
              "      <td>-0.018077</td>\n",
              "    </tr>\n",
              "    <tr>\n",
              "      <th>D</th>\n",
              "      <td>1.321038</td>\n",
              "      <td>-0.218712</td>\n",
              "      <td>-0.352165</td>\n",
              "      <td>-0.005339</td>\n",
              "    </tr>\n",
              "  </tbody>\n",
              "</table>\n",
              "</div>"
            ],
            "text/plain": [
              "          X         Y         Z       new\n",
              "A -0.529688  0.146518 -0.425011  1.320873\n",
              "B -0.468972  0.323547  0.650965 -1.096610\n",
              "C -0.289836 -0.763281  0.964985 -0.018077\n",
              "D  1.321038 -0.218712 -0.352165 -0.005339"
            ]
          },
          "execution_count": 16,
          "metadata": {},
          "output_type": "execute_result"
        }
      ],
      "source": [
        "df.drop('E',axis=0)"
      ]
    },
    {
      "cell_type": "markdown",
      "metadata": {
        "id": "5YCfy_91r1S-"
      },
      "source": [
        "** Selecting Rows**"
      ]
    },
    {
      "cell_type": "code",
      "execution_count": null,
      "metadata": {
        "id": "Ngm7hRpAr1S_"
      },
      "outputs": [],
      "source": [
        "df.loc['A']"
      ]
    },
    {
      "cell_type": "markdown",
      "metadata": {
        "id": "ujNJBLL2r1S_"
      },
      "source": [
        "Or select based off of position instead of label"
      ]
    },
    {
      "cell_type": "code",
      "execution_count": null,
      "metadata": {
        "id": "eIj7wP2Nr1S_"
      },
      "outputs": [],
      "source": [
        "df.iloc[2]"
      ]
    },
    {
      "cell_type": "markdown",
      "metadata": {
        "id": "TrHv9ILGr1S_"
      },
      "source": [
        "** Selecting subset of rows and columns **"
      ]
    },
    {
      "cell_type": "code",
      "execution_count": null,
      "metadata": {
        "id": "bCXtkdH1r1S_"
      },
      "outputs": [],
      "source": [
        "df.loc['B','Y']"
      ]
    },
    {
      "cell_type": "markdown",
      "metadata": {
        "id": "2SPquPxVr1S_"
      },
      "source": [
        "# Getting data from other Sources\n",
        "\n",
        "Get data from .CSV file"
      ]
    },
    {
      "cell_type": "code",
      "execution_count": null,
      "metadata": {
        "id": "x4pBOwFwr1TA"
      },
      "outputs": [],
      "source": [
        "df = pd.read_csv('Data_csv.csv')"
      ]
    },
    {
      "cell_type": "code",
      "execution_count": null,
      "metadata": {
        "id": "skIxjJWQr1TA",
        "outputId": "5f87a512-4b81-4445-c066-890160fb26ad"
      },
      "outputs": [
        {
          "data": {
            "text/html": [
              "<div>\n",
              "<style scoped>\n",
              "    .dataframe tbody tr th:only-of-type {\n",
              "        vertical-align: middle;\n",
              "    }\n",
              "\n",
              "    .dataframe tbody tr th {\n",
              "        vertical-align: top;\n",
              "    }\n",
              "\n",
              "    .dataframe thead th {\n",
              "        text-align: right;\n",
              "    }\n",
              "</style>\n",
              "<table border=\"1\" class=\"dataframe\">\n",
              "  <thead>\n",
              "    <tr style=\"text-align: right;\">\n",
              "      <th></th>\n",
              "      <th>Unnamed: 0</th>\n",
              "      <th>a</th>\n",
              "      <th>b</th>\n",
              "      <th>c</th>\n",
              "      <th>d</th>\n",
              "    </tr>\n",
              "  </thead>\n",
              "  <tbody>\n",
              "    <tr>\n",
              "      <th>0</th>\n",
              "      <td>0</td>\n",
              "      <td>0</td>\n",
              "      <td>1</td>\n",
              "      <td>2</td>\n",
              "      <td>3</td>\n",
              "    </tr>\n",
              "    <tr>\n",
              "      <th>1</th>\n",
              "      <td>1</td>\n",
              "      <td>4</td>\n",
              "      <td>5</td>\n",
              "      <td>6</td>\n",
              "      <td>7</td>\n",
              "    </tr>\n",
              "    <tr>\n",
              "      <th>2</th>\n",
              "      <td>2</td>\n",
              "      <td>8</td>\n",
              "      <td>9</td>\n",
              "      <td>10</td>\n",
              "      <td>11</td>\n",
              "    </tr>\n",
              "    <tr>\n",
              "      <th>3</th>\n",
              "      <td>3</td>\n",
              "      <td>12</td>\n",
              "      <td>13</td>\n",
              "      <td>14</td>\n",
              "      <td>15</td>\n",
              "    </tr>\n",
              "  </tbody>\n",
              "</table>\n",
              "</div>"
            ],
            "text/plain": [
              "   Unnamed: 0   a   b   c   d\n",
              "0           0   0   1   2   3\n",
              "1           1   4   5   6   7\n",
              "2           2   8   9  10  11\n",
              "3           3  12  13  14  15"
            ]
          },
          "execution_count": 22,
          "metadata": {},
          "output_type": "execute_result"
        }
      ],
      "source": [
        "df"
      ]
    },
    {
      "cell_type": "markdown",
      "metadata": {
        "id": "aaGhh1C5r1TA"
      },
      "source": [
        "Getting data from .xls file"
      ]
    },
    {
      "cell_type": "code",
      "execution_count": null,
      "metadata": {
        "id": "kxRO6nBCr1TA"
      },
      "outputs": [],
      "source": [
        "df = pd.read_excel('Data_xls.xlsx')"
      ]
    },
    {
      "cell_type": "code",
      "execution_count": null,
      "metadata": {
        "id": "GMVPagvMr1TA",
        "outputId": "67ed512f-40ad-450a-9fc9-c5189eb1e595"
      },
      "outputs": [
        {
          "data": {
            "text/html": [
              "<div>\n",
              "<style scoped>\n",
              "    .dataframe tbody tr th:only-of-type {\n",
              "        vertical-align: middle;\n",
              "    }\n",
              "\n",
              "    .dataframe tbody tr th {\n",
              "        vertical-align: top;\n",
              "    }\n",
              "\n",
              "    .dataframe thead th {\n",
              "        text-align: right;\n",
              "    }\n",
              "</style>\n",
              "<table border=\"1\" class=\"dataframe\">\n",
              "  <thead>\n",
              "    <tr style=\"text-align: right;\">\n",
              "      <th></th>\n",
              "      <th>Unnamed: 0</th>\n",
              "      <th>a</th>\n",
              "      <th>b</th>\n",
              "      <th>c</th>\n",
              "      <th>d</th>\n",
              "    </tr>\n",
              "  </thead>\n",
              "  <tbody>\n",
              "    <tr>\n",
              "      <th>0</th>\n",
              "      <td>0</td>\n",
              "      <td>0</td>\n",
              "      <td>1</td>\n",
              "      <td>2</td>\n",
              "      <td>3</td>\n",
              "    </tr>\n",
              "    <tr>\n",
              "      <th>1</th>\n",
              "      <td>1</td>\n",
              "      <td>4</td>\n",
              "      <td>5</td>\n",
              "      <td>6</td>\n",
              "      <td>7</td>\n",
              "    </tr>\n",
              "    <tr>\n",
              "      <th>2</th>\n",
              "      <td>2</td>\n",
              "      <td>8</td>\n",
              "      <td>9</td>\n",
              "      <td>10</td>\n",
              "      <td>11</td>\n",
              "    </tr>\n",
              "    <tr>\n",
              "      <th>3</th>\n",
              "      <td>3</td>\n",
              "      <td>12</td>\n",
              "      <td>13</td>\n",
              "      <td>14</td>\n",
              "      <td>15</td>\n",
              "    </tr>\n",
              "  </tbody>\n",
              "</table>\n",
              "</div>"
            ],
            "text/plain": [
              "   Unnamed: 0   a   b   c   d\n",
              "0           0   0   1   2   3\n",
              "1           1   4   5   6   7\n",
              "2           2   8   9  10  11\n",
              "3           3  12  13  14  15"
            ]
          },
          "execution_count": 20,
          "metadata": {},
          "output_type": "execute_result"
        }
      ],
      "source": [
        "df"
      ]
    }
  ],
  "metadata": {
    "kernelspec": {
      "display_name": "Python 3 (ipykernel)",
      "language": "python",
      "name": "python3"
    },
    "language_info": {
      "codemirror_mode": {
        "name": "ipython",
        "version": 3
      },
      "file_extension": ".py",
      "mimetype": "text/x-python",
      "name": "python",
      "nbconvert_exporter": "python",
      "pygments_lexer": "ipython3",
      "version": "3.9.12"
    },
    "colab": {
      "provenance": [],
      "include_colab_link": true
    }
  },
  "nbformat": 4,
  "nbformat_minor": 0
}